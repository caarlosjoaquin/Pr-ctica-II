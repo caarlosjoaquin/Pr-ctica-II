{
 "cells": [
  {
   "cell_type": "markdown",
   "metadata": {},
   "source": [
    "**Importe de librerías y drivers**"
   ]
  },
  {
   "cell_type": "markdown",
   "metadata": {},
   "source": [
    "Las librería utilizadas para el tratamiento de datos y la creación de la base son **pandas** y **sqlalchemy** respectivamente.\n",
    "\n",
    "Es importante destacar que la instalación de los drivers está correta cuando dentro de todos los paquetes instalados se encuentra el siguiente:\n",
    "\n",
    "<i>'Teradata Database ODBC Driver 20.00'</i>\n",
    "\n",
    "Si se desea cambiar la plataforma para operar las bases de datos, se debe cuidar tener la información correspondiente."
   ]
  },
  {
   "cell_type": "code",
   "execution_count": 1,
   "metadata": {},
   "outputs": [
    {
     "data": {
      "text/plain": [
       "['SQL Server',\n",
       " 'Microsoft Access Driver (*.mdb, *.accdb)',\n",
       " 'Microsoft Excel Driver (*.xls, *.xlsx, *.xlsm, *.xlsb)',\n",
       " 'Microsoft Access Text Driver (*.txt, *.csv)',\n",
       " 'Microsoft Access dBASE Driver (*.dbf, *.ndx, *.mdx)',\n",
       " 'Teradata Database ODBC Driver 20.00']"
      ]
     },
     "execution_count": 1,
     "metadata": {},
     "output_type": "execute_result"
    }
   ],
   "source": [
    "import pandas as pd\n",
    "from sqlalchemy import create_engine\n",
    "import os\n",
    "import pyodbc\n",
    "pyodbc.drivers()"
   ]
  },
  {
   "cell_type": "markdown",
   "metadata": {},
   "source": [
    "**Licencias y autentificación**"
   ]
  },
  {
   "cell_type": "markdown",
   "metadata": {},
   "source": [
    "Se definen las credenciales del usuario para acceder a la base de datos de interes. Una pequeña descripción de los datos son:\n",
    "\n",
    "<ul>\n",
    "<li>teradata_driver = Driver utilizado con su correspondiente versión (En caso de cuando se crea el documento: 'Teradata Database ODBC Driver 20.00')</li>\n",
    "<li>teradata_host_name = Host dipuesto por Entel para ingresar a las bases de datos, puede ser de dominio entel o una dirección IP (linkeada a las BBDD)</li>\n",
    "<li>teradata_user = Usuario teradata</li> \n",
    "<li>teradata_password = Contraseña teradata</li>\n",
    "<li>teradata_authentication = Autentificación de teradata</li>\n",
    "<ul>\n",
    "<br>\n",
    "\n",
    "\n"
   ]
  },
  {
   "cell_type": "code",
   "execution_count": 3,
   "metadata": {},
   "outputs": [],
   "source": [
    "#Credenciales\n",
    "teradata_driver = 'Teradata Database ODBC Driver 20.00'\n",
    "teradata_host_name = '10.52.136.236' # puede ser la direccion IP\n",
    "teradata_user = 'P_CFAUNDEZ'\n",
    "teradata_password = 'Carlos_Entel_5052'\n",
    "\n",
    "# Autentificación de teradata\n",
    "teradata_authentication = 'TD2'"
   ]
  },
  {
   "cell_type": "markdown",
   "metadata": {},
   "source": [
    "**Comprobando la conexión a la base**"
   ]
  },
  {
   "cell_type": "code",
   "execution_count": 4,
   "metadata": {},
   "outputs": [
    {
     "name": "stdout",
     "output_type": "stream",
     "text": [
      "Connecting to DB\n",
      "Connection achieved\n"
     ]
    }
   ],
   "source": [
    "#Conectado a la base solicitada\n",
    "print('Connecting to DB')\n",
    "cnxn = pyodbc.connect(\"DRIVER={%s};DBCNAME=%s;UID=%s;PWD=%s;authentication=%s\"\\\n",
    "                      %(teradata_driver,teradata_host_name,teradata_user,teradata_password,teradata_authentication))\n",
    "\n",
    "print('Connection achieved')"
   ]
  },
  {
   "cell_type": "markdown",
   "metadata": {},
   "source": [
    "**Conseguir ruta para el archivo y preprocesamiento**\n"
   ]
  },
  {
   "cell_type": "markdown",
   "metadata": {},
   "source": [
    "Se consigue el archivo de la base deseada y se procesan los datos, eliminando los valores no deseados (NaN, registros incompletos,etc.) \n",
    "\n",
    "Para normalizar los meses se define un índice temporal con la operación indice_temporal = años * 12 + mes, por ejemplo: el 11-2024 tiene como codigo 2024 * 12 + 11 = 24299. Siempre será un número entero por restricción de tipo (int)."
   ]
  },
  {
   "cell_type": "code",
   "execution_count": null,
   "metadata": {},
   "outputs": [],
   "source": [
    "def cargar_datos(ruta_archivo):\n",
    "    \n",
    "    #Leer el archivo en formato csv, precaución al separador\n",
    "    df = pd.read_csv(ruta_archivo, sep=';')\n",
    "    #Elminar data que contenga NaN en su registros\n",
    "    df = df.dropna()\n",
    "    #Orden cronologico\n",
    "    df = df.sort_values(by=['POP','YEAR_ID','MONTH_ID']).reset_index(drop=True)\n",
    "    #Definicion de un indice temporal que opera con año*12+mes, el 11-2024 tiene como codigo: 2024 * 12 + 11 = 24299 (siempre será un numero entero)\n",
    "    df['TEMP_IND'] = (df['YEAR_ID'] * 12 + df['MONTH_ID']).astype(int)\n",
    "    \n",
    "    return df\n",
    "\n",
    "\n",
    "#####\n",
    "\n",
    "def cargar_datos_teradata(conexion_teradata, nombre_tabla):\n",
    "    \n",
    "    #Query para rescatar la tabla que se quiera analizar\n",
    "    query = f\"SELECt * FROM {nombre_tabla}\"\n",
    "\n",
    "    #Conectar a teradata y crear el dataframe con query\n",
    "    with conexion_teradata.connect() as conn:\n",
    "        df = pd.read_sql(query,conn)\n",
    "\n",
    "    #Orden cronologico\n",
    "    df = df.sort_values(by=['POP','YEAR_ID','MONTH_ID']).reset_index(drop=True)    \n",
    "\n",
    "    #Elminar data que contenga NaN en su registros\n",
    "    df = df.dropna()\n",
    "\n",
    "    #Definicion de un indice temporal que opera con año*12+mes, el 11-2024 tiene como codigo: 2024 * 12 + 11 = 24299 (siempre será un numero entero)\n",
    "    df['TEMP_IND'] = (df['YEAR_ID'] * 12 + df['MONTH_ID']).astype(int)\n",
    "    \n",
    "    return df\n",
    "\n"
   ]
  },
  {
   "cell_type": "markdown",
   "metadata": {},
   "source": [
    "**Identificación de eventos**\n"
   ]
  },
  {
   "cell_type": "markdown",
   "metadata": {},
   "source": [
    "Función principal que detecta cuando un pop entra y sale de la base de datos. El proceso tiene las siguientes interpretaciones:\n",
    "\n",
    "<ol>\n",
    "<li>Cada evento de entrada o salida es un diccionario que contiene: nombre del evento(\"entrada\" o \"salida\"), POP, año y mes\n",
    "<li>El primer registro siempre se toma como una entrada\n",
    "<li>El último mes solo registra las entradas, no considera como si saliera ningún POP\n",
    "<li>El mes de salida se toma como el último que existe registro de actividad del POP, por ejemplo, si el POP está en la base los meses 9,10 y 11 del 2024 pero desaparece el 12/2024, su mes de salida es Noviembre del respectivo año.\n",
    "</ol>\n"
   ]
  },
  {
   "cell_type": "code",
   "execution_count": null,
   "metadata": {},
   "outputs": [],
   "source": [
    "def identificar_eventos(df):\n",
    "\n",
    "    #Lista vacía para almacenar eventos. Cada evento es un diccionario\n",
    "    eventos = []\n",
    "\n",
    "    ultimo_mes = df['TEMP_IND'].maX()\n",
    "\n",
    "    #Agrupar el Dataframe por grupo de POPs\n",
    "    for POP, grupo in df.groupby('POP'):\n",
    "        grupo = grupo.reset_index(drop=True)  # Reiniciar índices dentro del grupo\n",
    "\n",
    "        # Analizar cada fila del grupo\n",
    "        for i in range(len(grupo)):\n",
    "            # Detectar entrada al inicio o después de observar falta de información el meses contiguos\n",
    "            if i == 0 or grupo.loc[i, 'TEMP_IND'] - grupo.loc[i - 1, 'TEMP_IND'] > 1:\n",
    "                evento_entrada = {\n",
    "                    'YEAR_ID': grupo.loc[i, 'YEAR_ID'],\n",
    "                    'MONTH_ID': grupo.loc[i, 'MONTH_ID'],\n",
    "                    'POP': POP,\n",
    "                    'EVENTO': 'ENTRADA'\n",
    "                }\n",
    "                #Añadir solo si es un evento de entrada nuevo (Evitar eventos duplicados)\n",
    "                if evento_entrada not in eventos:\n",
    "                    eventos.append(evento_entrada)\n",
    "\n",
    "            # Detectar salida al final o antes de una brecha \n",
    "            if (grupo.loc[i,'TEMP_IND'] != ultimo_mes and (i == len(grupo) - 1 or grupo.loc[i + 1, 'TEMP_IND'] - grupo.loc[i, 'TEMP_IND'] > 1)):\n",
    "                evento_salida = {\n",
    "                    'YEAR_ID': grupo.loc[i, 'YEAR_ID'],\n",
    "                    'MONTH_ID': grupo.loc[i, 'MONTH_ID'],\n",
    "                    'POP': POP,\n",
    "                    'EVENTO': 'SALIDA'\n",
    "                }\n",
    "                #Añadir solo si es un evento de salida nuevo (Evitar eventos duplicados)\n",
    "                if evento_salida not in eventos:\n",
    "                    eventos.append(evento_salida)\n",
    "\n",
    "    # Convertir lista de eventos en un DataFrame y eliminar duplicados (precaución extra)\n",
    "    bitacora = pd.DataFrame(eventos).drop_duplicates().sort_values(by=['POP', 'YEAR_ID', 'MONTH_ID']).reset_index(drop=True)\n",
    "\n",
    "    return bitacora"
   ]
  },
  {
   "cell_type": "markdown",
   "metadata": {},
   "source": [
    "**Función de conteo por eventos**\n",
    "\n"
   ]
  },
  {
   "cell_type": "code",
   "execution_count": null,
   "metadata": {},
   "outputs": [],
   "source": [
    "def contar_eventos(bitacora):\n",
    "\n",
    "    # Agrupar por año, mes y tipo de evento, y contar las ocurrencias\n",
    "    conteo = bitacora.groupby(['YEAR_ID', 'MONTH_ID', 'EVENTO']).size().reset_index(name='CONTEO')\n",
    "    \n",
    "    # Pivotar los datos para tener columnas separadas para ENTRADAS y SALIDAS\n",
    "    pivot = conteo.pivot(index=['YEAR_ID', 'MONTH_ID'], columns='EVENTO', values='CONTEO').fillna(0).reset_index()\n",
    "    \n",
    "    # Renombrar columnas para mayor claridad\n",
    "    pivot = pivot.rename(columns={'ENTRADA': 'NUM_ENTRADAS', 'SALIDA': 'NUM_SALIDAS'})\n",
    "    \n",
    "    return pivot"
   ]
  },
  {
   "cell_type": "markdown",
   "metadata": {},
   "source": [
    "**Exportar a un excel**\n",
    "\n"
   ]
  },
  {
   "cell_type": "code",
   "execution_count": null,
   "metadata": {},
   "outputs": [],
   "source": [
    "def guardar_excel(bitacora,conteo,ruta_salida):\n",
    "    \n",
    "    #Crear el excel\n",
    "    with pd.ExcelWriter(ruta_salida,engine='xlsxwriter') as writer:\n",
    "        \n",
    "        #Primera pagina con la bitacora\n",
    "        bitacora.to_excel(writer,sheet_name='Bitacora',index=False)\n",
    "\n",
    "        #Segunda pagina con el conteo por mes\n",
    "        conteo.to_excel(writer,sheet_name='Conteos_por_mes', index=False)\n",
    "\n",
    "    #Nombre del archivo de salida que se guarda en el escritorio de la maquina que ejecute el programa\n",
    "    print(ruta_salida)"
   ]
  },
  {
   "cell_type": "markdown",
   "metadata": {},
   "source": [
    "**Actualización de la base de datos**"
   ]
  },
  {
   "cell_type": "code",
   "execution_count": null,
   "metadata": {},
   "outputs": [],
   "source": [
    "def actualizar_base_datos(bitacora,conn_teradata):\n",
    "\n",
    "    with cnxn.connect() as conn:\n",
    "        bitacora.to_sql('bitacora_eventos', conn, if exist='replace', index=False)"
   ]
  },
  {
   "cell_type": "markdown",
   "metadata": {},
   "source": [
    "**Ejecución del código principal**"
   ]
  },
  {
   "cell_type": "code",
   "execution_count": null,
   "metadata": {},
   "outputs": [],
   "source": [
    "def ejecutar_proceso(teradata_host_name, teradata_user, teradata_password, archivo_salida='bitacora.xlsx'):\n",
    "    # Pedir al usuario que elija entre cargar un archivo CSV o desde Teradata\n",
    "    print(\"Selecciona una opción:\")\n",
    "    print(\"1. Cargar desde archivo CSV\")\n",
    "    print(\"2. Cargar desde Teradata\")\n",
    "    \n",
    "    opcion = input(\"Ingresa 1 para CSV o 2 para Teradata: \")\n",
    "\n",
    "    # Validar la opción ingresada\n",
    "    while opcion not in ['1', '2']:\n",
    "        print(\"Opción no válida. Por favor ingresa 1 para CSV o 2 para Teradata.\")\n",
    "        opcion = input(\"Ingresa 1 para CSV o 2 para Teradata: \")\n",
    "\n",
    "    # Cargar datos según la opción elegida\n",
    "    if opcion == '1':\n",
    "        # Pedir la ruta del archivo CSV\n",
    "        ruta_archivo = input(\"Introduce la ruta del archivo CSV: \")\n",
    "        while not os.path.isfile(ruta_archivo):\n",
    "            print(\"La ruta no es válida o el archivo no existe. Intenta de nuevo.\")\n",
    "            ruta_archivo = input(\"Introduce la ruta del archivo CSV: \")\n",
    "        # Cargar los datos del archivo CSV\n",
    "        df = cargar_datos(ruta_archivo)\n",
    "    elif opcion == '2':\n",
    "        # Pedir el nombre de la tabla si se va a cargar desde Teradata\n",
    "        nombre_tabla = input(\"Introduce el nombre de la tabla en Teradata: \")\n",
    "        # Crear la conexión a Teradata\n",
    "        conexion_teradata = create_engine(f'teradata://{teradata_user}:{teradata_password}@{teradata_host_name}/')\n",
    "        # Cargar los datos desde Teradata\n",
    "        df = cargar_datos_teradata(conexion_teradata, nombre_tabla)\n",
    "\n",
    "    # Generar la bitácora\n",
    "    bitacora = identificar_eventos(df)\n",
    "\n",
    "    # Contar los eventos\n",
    "    conteo_por_mes = contar_eventos(bitacora)\n",
    "\n",
    "    # Exportar a un archivo Excel\n",
    "    guardar_excel(bitacora, conteo_por_mes, archivo_salida)\n",
    "\n",
    "    # Conectar a Teradata para actualizar la base de datos\n",
    "    conexion_teradata = create_engine(f'teradata://{teradata_user}:{teradata_password}@{teradata_host_name}/')\n",
    "\n",
    "    # Actualizar la base de datos en Teradata\n",
    "    actualizar_base_datos(bitacora, conexion_teradata)\n",
    "    \n",
    "    # Mensaje de aprobación\n",
    "    print(\"Proceso completado. La bitácora ha sido actualizada.\")\n"
   ]
  },
  {
   "cell_type": "markdown",
   "metadata": {},
   "source": [
    "**Uso del script**"
   ]
  },
  {
   "cell_type": "markdown",
   "metadata": {},
   "source": [
    "La ruta del archivo de sebe ingresar como ...\n",
    "\n",
    "Para ejecutar el proceso se deben considerar las credenciales definidas anteriormente, esta se reciben como argumento para la función"
   ]
  },
  {
   "cell_type": "code",
   "execution_count": null,
   "metadata": {},
   "outputs": [],
   "source": [
    "if __name__ == \"__main__\":\n",
    "    \n",
    "    from sqlalchemy_teradata import teradata\n",
    "\n",
    "    #Ejecutar el proceso con las credenciales definidas anteriormente    \n",
    "    ejecutar_proceso(teradata_host_name,teradata_user,teradata_password, fuente_datos=\"teradata\", nombre_table=\"\")"
   ]
  }
 ],
 "metadata": {
  "kernelspec": {
   "display_name": "Python 3",
   "language": "python",
   "name": "python3"
  },
  "language_info": {
   "codemirror_mode": {
    "name": "ipython",
    "version": 3
   },
   "file_extension": ".py",
   "mimetype": "text/x-python",
   "name": "python",
   "nbconvert_exporter": "python",
   "pygments_lexer": "ipython3",
   "version": "3.13.1"
  }
 },
 "nbformat": 4,
 "nbformat_minor": 2
}
