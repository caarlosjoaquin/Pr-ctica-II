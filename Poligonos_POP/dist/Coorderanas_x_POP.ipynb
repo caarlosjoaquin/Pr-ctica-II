{
 "cells": [
  {
   "cell_type": "markdown",
   "metadata": {},
   "source": [
    "**Importe de librerías**"
   ]
  },
  {
   "cell_type": "code",
   "execution_count": null,
   "metadata": {},
   "outputs": [],
   "source": [
    "import math\n",
    "import os\n",
    "import pandas as pd"
   ]
  },
  {
   "cell_type": "markdown",
   "metadata": {},
   "source": [
    "**Polígono para cada POP**"
   ]
  },
  {
   "cell_type": "code",
   "execution_count": null,
   "metadata": {},
   "outputs": [],
   "source": [
    "# Constantes\n",
    "RADIO_TIERRA = 6371  # Radio de la Tierra en kilómetros\n",
    "\n",
    "# Función para generar los puntos del círculo\n",
    "def generar_circulo(latitud, longitud, radio_km, num_puntos=50):\n",
    "    # Convertir latitud y longitud a radianes\n",
    "    lat_rad = math.radians(latitud)\n",
    "    lon_rad = math.radians(longitud)\n",
    "    \n",
    "    # Lista para almacenar las coordenadas del círculo\n",
    "    coordenadas = []\n",
    "    \n",
    "    # Generar puntos en el perímetro del círculo\n",
    "    for i in range(num_puntos):\n",
    "        angulo = 2 * math.pi * i / num_puntos  # Ángulo en radianes para cada punto\n",
    "        # Desplazamientos en coordenadas geográficas\n",
    "        delta_lat = radio_km / RADIO_TIERRA * math.cos(angulo)\n",
    "        delta_lon = radio_km / RADIO_TIERRA * math.sin(angulo) / math.cos(lat_rad)\n",
    "        \n",
    "        # Coordenadas de cada punto\n",
    "        nueva_lat = lat_rad + delta_lat\n",
    "        nueva_lon = lon_rad + delta_lon\n",
    "        \n",
    "        # Convertir de radianes a grados y agregar a la lista\n",
    "        coordenadas.append((math.degrees(nueva_lat), math.degrees(nueva_lon)))\n",
    "    \n",
    "    return coordenadas\n"
   ]
  },
  {
   "cell_type": "markdown",
   "metadata": {},
   "source": [
    "**Condiciones dependientes de la ubicación del POP**"
   ]
  },
  {
   "cell_type": "code",
   "execution_count": null,
   "metadata": {},
   "outputs": [],
   "source": [
    "# Función para determinar el radio en función de la categoría\n",
    "def determinar_radio(categoria):\n",
    "    if categoria == 'Ciudades':\n",
    "        return 0.5\n",
    "    elif categoria == 'Turistica' or categoria == 'Pueblo' or categoria == 'Localidades':\n",
    "        return 1.0\n",
    "    else: \n",
    "        return 2.5  # Valor por defecto"
   ]
  },
  {
   "cell_type": "markdown",
   "metadata": {},
   "source": [
    "**Cargar datos**"
   ]
  },
  {
   "cell_type": "code",
   "execution_count": null,
   "metadata": {},
   "outputs": [],
   "source": [
    "archivo_excel = r\"C:\\Users\\P_CFAUNDEZ\\Desktop\\subset_1.xlsx\"\n",
    "\n",
    "datos = pd.read_excel(archivo_excel)\n",
    "\n",
    "datos.drop_duplicates('POP', keep='first')\n"
   ]
  },
  {
   "cell_type": "markdown",
   "metadata": {},
   "source": [
    "**Crear polígono para cada POP**"
   ]
  },
  {
   "cell_type": "code",
   "execution_count": null,
   "metadata": {},
   "outputs": [],
   "source": [
    "# Procesar cada fila de la base de datos\n",
    "for index, fila in datos.iterrows():\n",
    "    lat = fila['LATITUDE']\n",
    "    lon = fila['LONGITUDE']\n",
    "    categoria = fila['CATEGORIA']\n",
    "    pop = fila['POP']\n",
    "\n",
    "    \n",
    "    # Determinar el radio en función de la categoría\n",
    "    radio = determinar_radio(categoria)\n",
    "    \n",
    "    # Generar círculo\n",
    "    puntos_circulo = generar_circulo(lat, lon, radio)\n",
    "    \n",
    "    # Ruta del archivo donde guardar las coordenadas\n",
    "    nombre_archivo = f\"puntos_circulo_{pop}.txt\"\n",
    "    \n",
    "    # Obtener la ruta del directorio actual\n",
    "    directorio_actual = os.getcwd()\n",
    "    \n",
    "    # Ruta completa del archivo\n",
    "    ruta_completa = os.path.join(directorio_actual, nombre_archivo)\n",
    "    \n",
    "    try:\n",
    "        # Escribir los puntos en un archivo .txt\n",
    "        with open(ruta_completa, \"w\") as archivo:\n",
    "            archivo.write(f\"Puntos del círculo para la ciudad ID {pop}:\\n\")\n",
    "            for punto in puntos_circulo:\n",
    "                archivo.write(f\"{punto[0]}, {punto[1]}\\n\")\n",
    "        \n",
    "        print(f\"Archivo guardado correctamente en: {ruta_completa}\")\n",
    "    \n",
    "    except Exception as e:\n",
    "        print(f\"Ocurrió un error al guardar el archivo: {e}\")"
   ]
  }
 ],
 "metadata": {
  "kernelspec": {
   "display_name": "Python 3",
   "language": "python",
   "name": "python3"
  },
  "language_info": {
   "name": "python",
   "version": "3.13.1"
  }
 },
 "nbformat": 4,
 "nbformat_minor": 2
}
